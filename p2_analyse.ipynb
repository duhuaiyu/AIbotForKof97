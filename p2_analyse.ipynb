{
 "cells": [
  {
   "cell_type": "code",
   "execution_count": 77,
   "metadata": {
    "collapsed": true,
    "pycharm": {
     "name": "#%%\n"
    }
   },
   "outputs": [
    {
     "name": "stdout",
     "output_type": "stream",
     "text": [
      "2097152\n",
      "0020091a\n",
      "0 512.0\n",
      "0020111a\n",
      "1 512.0\n",
      "0020191a\n",
      "2 512.0\n",
      "0020211a\n",
      "3 512.0\n",
      "0020291a\n",
      "4 512.0\n",
      "0020311a\n",
      "5 512.0\n",
      "0020391a\n",
      "6 512.0\n",
      "0020411a\n",
      "7 512.0\n",
      "0020491a\n",
      "8 512.0\n",
      "0020511a\n",
      "9 512.0\n",
      "0020591a\n",
      "10 512.0\n",
      "0020611a\n",
      "11 512.0\n",
      "0020691a\n",
      "12 512.0\n",
      "0020711a\n",
      "13 512.0\n",
      "0020791a\n",
      "14 512.0\n",
      "0020811a\n",
      "15 512.0\n",
      "0020891a\n",
      "16 512.0\n",
      "0020911a\n",
      "17 512.0\n",
      "0020991a\n",
      "18 512.0\n",
      "0020a11a\n",
      "19 512.0\n",
      "0020a91a\n",
      "20 512.0\n",
      "0020b11a\n",
      "21 512.0\n"
     ]
    }
   ],
   "source": [
    "import binascii\n",
    "import struct\n",
    "import numpy as np\n",
    "offset = int.from_bytes(b'\\x20\\x00\\x00','big')\n",
    "print(offset)\n",
    "with open('resource/p2.bin', mode='rb') as file: # b is important -> binary\n",
    "    file.seek(2)\n",
    "    last_location = int.from_bytes(file.read(4),'big')-offset\n",
    "    for i in range(0,22):\n",
    "        res = file.read(4)\n",
    "        print(res.hex())\n",
    "        location = int.from_bytes(res,'big')-offset\n",
    "\n",
    "        print(i, (location-last_location)/4)\n",
    "        last_location = location"
   ]
  },
  {
   "cell_type": "code",
   "execution_count": 40,
   "outputs": [
    {
     "data": {
      "text/plain": "array([  0,   2,   0, ..., 255, 255, 255], dtype=uint8)"
     },
     "execution_count": 40,
     "metadata": {},
     "output_type": "execute_result"
    }
   ],
   "source": [],
   "metadata": {
    "collapsed": false,
    "pycharm": {
     "name": "#%%\n"
    }
   }
  },
  {
   "cell_type": "code",
   "execution_count": 19,
   "outputs": [
    {
     "data": {
      "text/plain": "<map at 0x7f06a18d1198>"
     },
     "execution_count": 19,
     "metadata": {},
     "output_type": "execute_result"
    }
   ],
   "source": [],
   "metadata": {
    "collapsed": false,
    "pycharm": {
     "name": "#%%\n"
    }
   }
  }
 ],
 "metadata": {
  "kernelspec": {
   "display_name": "Python 3",
   "language": "python",
   "name": "python3"
  },
  "language_info": {
   "codemirror_mode": {
    "name": "ipython",
    "version": 2
   },
   "file_extension": ".py",
   "mimetype": "text/x-python",
   "name": "python",
   "nbconvert_exporter": "python",
   "pygments_lexer": "ipython2",
   "version": "2.7.6"
  }
 },
 "nbformat": 4,
 "nbformat_minor": 0
}