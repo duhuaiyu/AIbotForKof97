{
 "cells": [
  {
   "cell_type": "code",
   "execution_count": 1,
   "metadata": {
    "collapsed": true
   },
   "outputs": [],
   "source": [
    "import random\n",
    "import time\n",
    "\n",
    "import numpy as np\n",
    "import torch\n",
    "\n",
    "from Kof97Environment import Kof97Environment\n",
    "from MAMEToolkit.sf_environment import Environment\n",
    "import cv2\n",
    "import os\n",
    "from collections import deque\n",
    "\n",
    "from matplotlib import pyplot as plt\n",
    "from PIL import Image, ImageOps"
   ]
  },
  {
   "cell_type": "code",
   "execution_count": 2,
   "outputs": [],
   "source": [
    "roms_path = \"roms/\"  # Replace this with the path to your ROMs\n",
    "env = Kof97Environment(\"env1\", roms_path)\n",
    "\n",
    "#env.start()\n",
    "i = 0\n",
    "#actions = [(6,8),(6,8),(6,8),(6,8),(6,8),(0,8),(0,8),(0,8),(8,0),(8,0),(8,8),(8,8),(8,8),(8,8),(8,8),(8,8),(8,8),(8,8),(8,8),(8,8),(8,8),(8,8),(8,8),(8,8)]\n",
    "actions = [(6,8),(6,8),(7,8),(7,8),(0,8),(0,0),(0,0),(8,0),(8,0),(8,8),(8,8),(8,8),(8,8),(8,8),(8,8)]"
   ],
   "metadata": {
    "collapsed": false,
    "pycharm": {
     "name": "#%%\n"
    }
   }
  },
  {
   "cell_type": "code",
   "execution_count": 3,
   "outputs": [
    {
     "data": {
      "text/plain": "deque([tensor([[[-1.0000, -1.0000, -0.9373,  ..., -0.9529, -1.0000, -1.0000],\n                [-1.0000, -1.0000, -0.9451,  ..., -0.9529, -1.0000, -1.0000],\n                [-1.0000, -1.0000, -0.9529,  ..., -0.9529, -1.0000, -1.0000],\n                ...,\n                [-1.0000, -1.0000, -0.9451,  ..., -0.9529, -1.0000, -1.0000],\n                [-1.0000, -1.0000, -0.9294,  ..., -0.9373, -1.0000, -1.0000],\n                [-1.0000, -1.0000, -0.9216,  ..., -0.9294, -1.0000, -1.0000]]]),\n       tensor([[[-1.0000, -1.0000, -0.9373,  ..., -0.9529, -1.0000, -1.0000],\n                [-1.0000, -1.0000, -0.9451,  ..., -0.9529, -1.0000, -1.0000],\n                [-1.0000, -1.0000, -0.9529,  ..., -0.9529, -1.0000, -1.0000],\n                ...,\n                [-1.0000, -1.0000, -0.9451,  ..., -0.9529, -1.0000, -1.0000],\n                [-1.0000, -1.0000, -0.9294,  ..., -0.9373, -1.0000, -1.0000],\n                [-1.0000, -1.0000, -0.9216,  ..., -0.9294, -1.0000, -1.0000]]]),\n       tensor([[[-1.0000, -1.0000, -0.9373,  ..., -0.9529, -1.0000, -1.0000],\n                [-1.0000, -1.0000, -0.9451,  ..., -0.9529, -1.0000, -1.0000],\n                [-1.0000, -1.0000, -0.9529,  ..., -0.9529, -1.0000, -1.0000],\n                ...,\n                [-1.0000, -1.0000, -0.9451,  ..., -0.9529, -1.0000, -1.0000],\n                [-1.0000, -1.0000, -0.9294,  ..., -0.9373, -1.0000, -1.0000],\n                [-1.0000, -1.0000, -0.9216,  ..., -0.9294, -1.0000, -1.0000]]]),\n       tensor([[[-1.0000, -1.0000, -0.9373,  ..., -0.9529, -1.0000, -1.0000],\n                [-1.0000, -1.0000, -0.9451,  ..., -0.9529, -1.0000, -1.0000],\n                [-1.0000, -1.0000, -0.9529,  ..., -0.9529, -1.0000, -1.0000],\n                ...,\n                [-1.0000, -1.0000, -0.9451,  ..., -0.9529, -1.0000, -1.0000],\n                [-1.0000, -1.0000, -0.9294,  ..., -0.9373, -1.0000, -1.0000],\n                [-1.0000, -1.0000, -0.9216,  ..., -0.9294, -1.0000, -1.0000]]]),\n       tensor([[[-1.0000, -1.0000, -0.9373,  ..., -0.9529, -1.0000, -1.0000],\n                [-1.0000, -1.0000, -0.9451,  ..., -0.9529, -1.0000, -1.0000],\n                [-1.0000, -1.0000, -0.9529,  ..., -0.9529, -1.0000, -1.0000],\n                ...,\n                [-1.0000, -1.0000, -0.9451,  ..., -0.9529, -1.0000, -1.0000],\n                [-1.0000, -1.0000, -0.9294,  ..., -0.9373, -1.0000, -1.0000],\n                [-1.0000, -1.0000, -0.9216,  ..., -0.9294, -1.0000, -1.0000]]])])"
     },
     "execution_count": 3,
     "metadata": {},
     "output_type": "execute_result"
    }
   ],
   "source": [
    "env.start()"
   ],
   "metadata": {
    "collapsed": false,
    "pycharm": {
     "name": "#%%\n"
    }
   }
  },
  {
   "cell_type": "code",
   "execution_count": 27,
   "outputs": [],
   "source": [
    "res = env.emu.console.writeln('manager:machine():load(\"/home/duhuaiyu/kof97save\")')"
   ],
   "metadata": {
    "collapsed": false,
    "pycharm": {
     "name": "#%%\n"
    }
   }
  },
  {
   "cell_type": "code",
   "execution_count": 51,
   "outputs": [],
   "source": [
    "env.loadRest('\"/home/duhuaiyu/kof97save\"')"
   ],
   "metadata": {
    "collapsed": false,
    "pycharm": {
     "name": "#%%\n"
    }
   }
  },
  {
   "cell_type": "code",
   "execution_count": 9,
   "outputs": [],
   "source": [
    "d = deque(maxlen=20)"
   ],
   "metadata": {
    "collapsed": false,
    "pycharm": {
     "name": "#%%\n"
    }
   }
  },
  {
   "cell_type": "code",
   "execution_count": 52,
   "outputs": [],
   "source": [
    "i = 0\n",
    "while i< 30:\n",
    "    # move_action = random.randint(0, 8)\n",
    "    # attack_action = random.randint(0, 7)\n",
    "    # time.sleep(1)\n",
    "    index = i % len(actions)\n",
    "    move_action = actions[index][0]\n",
    "    attack_action = actions[index][1]\n",
    "    #print (move_action,attack_action)\n",
    "    frame, reward, round_done, stage_done, game_done = env.step(move_action, attack_action)\n",
    "    d.append(frame)\n",
    "    #if not round_done:\n",
    "        #for frame in frames:\n",
    "        #print('save file')\n",
    "        #cv2.imwrite(os.path.join(temp_dir, str(i) +\".png\"),cv2.cvtColor(frame, cv2.COLOR_RGB2BGR))\n",
    "    #print(\"game_done\",game_done)\n",
    "    if game_done:\n",
    "        env.reset()\n",
    "    elif stage_done:\n",
    "        env.reset()\n",
    "    elif round_done:\n",
    "        #print(\"round done!!\")\n",
    "        env.reset()\n",
    "    i = i +1"
   ],
   "metadata": {
    "collapsed": false,
    "pycharm": {
     "name": "#%%\n"
    }
   }
  },
  {
   "cell_type": "code",
   "execution_count": 6,
   "outputs": [
    {
     "name": "stdout",
     "output_type": "stream",
     "text": [
      "deque([tensor([[[-1.0000, -1.0000, -0.9216,  ..., -0.9529, -1.0000, -1.0000],\n",
      "         [-1.0000, -1.0000, -0.9216,  ..., -0.9529, -1.0000, -1.0000],\n",
      "         [-1.0000, -1.0000, -0.9216,  ..., -0.9529, -1.0000, -1.0000],\n",
      "         ...,\n",
      "         [-1.0000, -1.0000, -0.9451,  ..., -0.9451, -1.0000, -1.0000],\n",
      "         [-1.0000, -1.0000, -0.9294,  ..., -0.9216, -1.0000, -1.0000],\n",
      "         [-1.0000, -1.0000, -0.9294,  ..., -0.9294, -1.0000, -1.0000]]]), tensor([[[-1.0000, -1.0000, -0.9216,  ..., -0.9529, -1.0000, -1.0000],\n",
      "         [-1.0000, -1.0000, -0.9216,  ..., -0.9529, -1.0000, -1.0000],\n",
      "         [-1.0000, -1.0000, -0.9216,  ..., -0.9529, -1.0000, -1.0000],\n",
      "         ...,\n",
      "         [-1.0000, -1.0000, -0.9451,  ..., -0.9451, -1.0000, -1.0000],\n",
      "         [-1.0000, -1.0000, -0.9294,  ..., -0.9216, -1.0000, -1.0000],\n",
      "         [-1.0000, -1.0000, -0.9294,  ..., -0.9294, -1.0000, -1.0000]]]), tensor([[[-1.0000, -1.0000, -0.9216,  ..., -0.9529, -1.0000, -1.0000],\n",
      "         [-1.0000, -1.0000, -0.9216,  ..., -0.9529, -1.0000, -1.0000],\n",
      "         [-1.0000, -1.0000, -0.9216,  ..., -0.9529, -1.0000, -1.0000],\n",
      "         ...,\n",
      "         [-1.0000, -1.0000, -0.9451,  ..., -0.9451, -1.0000, -1.0000],\n",
      "         [-1.0000, -1.0000, -0.9294,  ..., -0.9216, -1.0000, -1.0000],\n",
      "         [-1.0000, -1.0000, -0.9294,  ..., -0.9294, -1.0000, -1.0000]]]), tensor([[[-1.0000, -1.0000, -0.9216,  ..., -0.9529, -1.0000, -1.0000],\n",
      "         [-1.0000, -1.0000, -0.9216,  ..., -0.9529, -1.0000, -1.0000],\n",
      "         [-1.0000, -1.0000, -0.9216,  ..., -0.9529, -1.0000, -1.0000],\n",
      "         ...,\n",
      "         [-1.0000, -1.0000, -0.9451,  ..., -0.9451, -1.0000, -1.0000],\n",
      "         [-1.0000, -1.0000, -0.9294,  ..., -0.9216, -1.0000, -1.0000],\n",
      "         [-1.0000, -1.0000, -0.9294,  ..., -0.9294, -1.0000, -1.0000]]]), tensor([[[-1.0000, -1.0000, -0.9216,  ..., -0.9529, -1.0000, -1.0000],\n",
      "         [-1.0000, -1.0000, -0.9216,  ..., -0.9529, -1.0000, -1.0000],\n",
      "         [-1.0000, -1.0000, -0.9216,  ..., -0.9529, -1.0000, -1.0000],\n",
      "         ...,\n",
      "         [-1.0000, -1.0000, -0.9451,  ..., -0.9451, -1.0000, -1.0000],\n",
      "         [-1.0000, -1.0000, -0.9294,  ..., -0.9216, -1.0000, -1.0000],\n",
      "         [-1.0000, -1.0000, -0.9294,  ..., -0.9294, -1.0000, -1.0000]]])], maxlen=5)\n"
     ]
    }
   ],
   "source": [
    "print(d[0])"
   ],
   "metadata": {
    "collapsed": false,
    "pycharm": {
     "name": "#%%\n"
    }
   }
  },
  {
   "cell_type": "code",
   "execution_count": 14,
   "outputs": [
    {
     "data": {
      "text/plain": "torch.Size([1, 5, 128, 128])"
     },
     "execution_count": 14,
     "metadata": {},
     "output_type": "execute_result"
    }
   ],
   "source": [
    "res = torch.stack(tuple(d[0]), dim=1).size()\n",
    "res\n",
    "#tuple(d[0])\n"
   ],
   "metadata": {
    "collapsed": false,
    "pycharm": {
     "name": "#%%\n"
    }
   }
  }
 ],
 "metadata": {
  "kernelspec": {
   "display_name": "Python 3",
   "language": "python",
   "name": "python3"
  },
  "language_info": {
   "codemirror_mode": {
    "name": "ipython",
    "version": 2
   },
   "file_extension": ".py",
   "mimetype": "text/x-python",
   "name": "python",
   "nbconvert_exporter": "python",
   "pygments_lexer": "ipython2",
   "version": "2.7.6"
  }
 },
 "nbformat": 4,
 "nbformat_minor": 0
}