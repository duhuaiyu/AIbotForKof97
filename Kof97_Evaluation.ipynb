{
 "cells": [
  {
   "cell_type": "code",
   "execution_count": 1,
   "metadata": {
    "collapsed": true,
    "pycharm": {
     "name": "#%%\n"
    }
   },
   "outputs": [
    {
     "name": "stdout",
     "output_type": "stream",
     "text": [
      "E: Could not open lock file /var/lib/dpkg/lock-frontend - open (13: Permission denied)\r\n",
      "E: Unable to acquire the dpkg frontend lock (/var/lib/dpkg/lock-frontend), are you root?\r\n",
      "Requirement already satisfied: stable-baselines3[extra] in /home/duhuaiyu/anaconda3/envs/pytroch11/lib/python3.6/site-packages (1.3.0)\r\n",
      "Requirement already satisfied: numpy in /home/duhuaiyu/anaconda3/envs/pytroch11/lib/python3.6/site-packages (from stable-baselines3[extra]) (1.18.5)\r\n",
      "Requirement already satisfied: cloudpickle in /home/duhuaiyu/anaconda3/envs/pytroch11/lib/python3.6/site-packages (from stable-baselines3[extra]) (1.5.0)\r\n",
      "Requirement already satisfied: torch>=1.8.1 in /home/duhuaiyu/anaconda3/envs/pytroch11/lib/python3.6/site-packages (from stable-baselines3[extra]) (1.10.0)\r\n",
      "Requirement already satisfied: matplotlib in /home/duhuaiyu/anaconda3/envs/pytroch11/lib/python3.6/site-packages (from stable-baselines3[extra]) (3.2.2)\r\n",
      "Requirement already satisfied: gym<0.20,>=0.17 in /home/duhuaiyu/anaconda3/envs/pytroch11/lib/python3.6/site-packages (from stable-baselines3[extra]) (0.19.0)\r\n",
      "Requirement already satisfied: pandas in /home/duhuaiyu/anaconda3/envs/pytroch11/lib/python3.6/site-packages (from stable-baselines3[extra]) (1.0.5)\r\n",
      "Requirement already satisfied: psutil; extra == \"extra\" in /home/duhuaiyu/anaconda3/envs/pytroch11/lib/python3.6/site-packages (from stable-baselines3[extra]) (5.7.0)\r\n",
      "Requirement already satisfied: pillow; extra == \"extra\" in /home/duhuaiyu/anaconda3/envs/pytroch11/lib/python3.6/site-packages (from stable-baselines3[extra]) (7.2.0)\r\n",
      "Requirement already satisfied: tensorboard>=2.2.0; extra == \"extra\" in /home/duhuaiyu/anaconda3/envs/pytroch11/lib/python3.6/site-packages (from stable-baselines3[extra]) (2.8.0)\r\n",
      "Requirement already satisfied: atari-py~=0.2.0; extra == \"extra\" in /home/duhuaiyu/anaconda3/envs/pytroch11/lib/python3.6/site-packages (from stable-baselines3[extra]) (0.2.9)\r\n",
      "Requirement already satisfied: opencv-python; extra == \"extra\" in /home/duhuaiyu/anaconda3/envs/pytroch11/lib/python3.6/site-packages (from stable-baselines3[extra]) (4.5.4.60)\r\n",
      "Requirement already satisfied: typing_extensions in /home/duhuaiyu/anaconda3/envs/pytroch11/lib/python3.6/site-packages (from torch>=1.8.1->stable-baselines3[extra]) (3.7.4.2)\r\n",
      "Requirement already satisfied: dataclasses in /home/duhuaiyu/anaconda3/envs/pytroch11/lib/python3.6/site-packages (from torch>=1.8.1->stable-baselines3[extra]) (0.8)\r\n",
      "Requirement already satisfied: kiwisolver>=1.0.1 in /home/duhuaiyu/anaconda3/envs/pytroch11/lib/python3.6/site-packages (from matplotlib->stable-baselines3[extra]) (1.2.0)\r\n",
      "Requirement already satisfied: pyparsing!=2.0.4,!=2.1.2,!=2.1.6,>=2.0.1 in /home/duhuaiyu/anaconda3/envs/pytroch11/lib/python3.6/site-packages (from matplotlib->stable-baselines3[extra]) (2.4.7)\r\n",
      "Requirement already satisfied: cycler>=0.10 in /home/duhuaiyu/anaconda3/envs/pytroch11/lib/python3.6/site-packages (from matplotlib->stable-baselines3[extra]) (0.10.0)\r\n",
      "Requirement already satisfied: python-dateutil>=2.1 in /home/duhuaiyu/anaconda3/envs/pytroch11/lib/python3.6/site-packages (from matplotlib->stable-baselines3[extra]) (2.8.1)\r\n",
      "Requirement already satisfied: pytz>=2017.2 in /home/duhuaiyu/anaconda3/envs/pytroch11/lib/python3.6/site-packages (from pandas->stable-baselines3[extra]) (2020.1)\r\n",
      "Requirement already satisfied: google-auth<3,>=1.6.3 in /home/duhuaiyu/anaconda3/envs/pytroch11/lib/python3.6/site-packages (from tensorboard>=2.2.0; extra == \"extra\"->stable-baselines3[extra]) (2.6.2)\r\n",
      "Requirement already satisfied: requests<3,>=2.21.0 in /home/duhuaiyu/anaconda3/envs/pytroch11/lib/python3.6/site-packages (from tensorboard>=2.2.0; extra == \"extra\"->stable-baselines3[extra]) (2.24.0)\r\n",
      "Requirement already satisfied: tensorboard-data-server<0.7.0,>=0.6.0 in /home/duhuaiyu/anaconda3/envs/pytroch11/lib/python3.6/site-packages (from tensorboard>=2.2.0; extra == \"extra\"->stable-baselines3[extra]) (0.6.1)\r\n",
      "Requirement already satisfied: tensorboard-plugin-wit>=1.6.0 in /home/duhuaiyu/anaconda3/envs/pytroch11/lib/python3.6/site-packages (from tensorboard>=2.2.0; extra == \"extra\"->stable-baselines3[extra]) (1.8.1)\r\n",
      "Requirement already satisfied: grpcio>=1.24.3 in /home/duhuaiyu/anaconda3/envs/pytroch11/lib/python3.6/site-packages (from tensorboard>=2.2.0; extra == \"extra\"->stable-baselines3[extra]) (1.44.0)\r\n",
      "Requirement already satisfied: werkzeug>=0.11.15 in /home/duhuaiyu/anaconda3/envs/pytroch11/lib/python3.6/site-packages (from tensorboard>=2.2.0; extra == \"extra\"->stable-baselines3[extra]) (1.0.1)\r\n",
      "Requirement already satisfied: protobuf>=3.6.0 in /home/duhuaiyu/anaconda3/envs/pytroch11/lib/python3.6/site-packages (from tensorboard>=2.2.0; extra == \"extra\"->stable-baselines3[extra]) (3.19.1)\r\n",
      "Requirement already satisfied: markdown>=2.6.8 in /home/duhuaiyu/anaconda3/envs/pytroch11/lib/python3.6/site-packages (from tensorboard>=2.2.0; extra == \"extra\"->stable-baselines3[extra]) (3.3.6)\r\n",
      "Requirement already satisfied: absl-py>=0.4 in /home/duhuaiyu/anaconda3/envs/pytroch11/lib/python3.6/site-packages (from tensorboard>=2.2.0; extra == \"extra\"->stable-baselines3[extra]) (1.0.0)\r\n",
      "Requirement already satisfied: google-auth-oauthlib<0.5,>=0.4.1 in /home/duhuaiyu/anaconda3/envs/pytroch11/lib/python3.6/site-packages (from tensorboard>=2.2.0; extra == \"extra\"->stable-baselines3[extra]) (0.4.6)\r\n",
      "Requirement already satisfied: wheel>=0.26 in /home/duhuaiyu/anaconda3/envs/pytroch11/lib/python3.6/site-packages (from tensorboard>=2.2.0; extra == \"extra\"->stable-baselines3[extra]) (0.34.2)\r\n",
      "Requirement already satisfied: setuptools>=41.0.0 in /home/duhuaiyu/anaconda3/envs/pytroch11/lib/python3.6/site-packages (from tensorboard>=2.2.0; extra == \"extra\"->stable-baselines3[extra]) (49.2.0.post20200714)\r\n",
      "Requirement already satisfied: six in /home/duhuaiyu/anaconda3/envs/pytroch11/lib/python3.6/site-packages (from atari-py~=0.2.0; extra == \"extra\"->stable-baselines3[extra]) (1.15.0)\r\n",
      "Requirement already satisfied: cachetools<6.0,>=2.0.0 in /home/duhuaiyu/anaconda3/envs/pytroch11/lib/python3.6/site-packages (from google-auth<3,>=1.6.3->tensorboard>=2.2.0; extra == \"extra\"->stable-baselines3[extra]) (4.2.4)\r\n",
      "Requirement already satisfied: pyasn1-modules>=0.2.1 in /home/duhuaiyu/anaconda3/envs/pytroch11/lib/python3.6/site-packages (from google-auth<3,>=1.6.3->tensorboard>=2.2.0; extra == \"extra\"->stable-baselines3[extra]) (0.2.8)\r\n",
      "Requirement already satisfied: rsa<5,>=3.1.4; python_version >= \"3.6\" in /home/duhuaiyu/anaconda3/envs/pytroch11/lib/python3.6/site-packages (from google-auth<3,>=1.6.3->tensorboard>=2.2.0; extra == \"extra\"->stable-baselines3[extra]) (4.8)\r\n",
      "Requirement already satisfied: chardet<4,>=3.0.2 in /home/duhuaiyu/anaconda3/envs/pytroch11/lib/python3.6/site-packages (from requests<3,>=2.21.0->tensorboard>=2.2.0; extra == \"extra\"->stable-baselines3[extra]) (3.0.4)\r\n",
      "Requirement already satisfied: urllib3!=1.25.0,!=1.25.1,<1.26,>=1.21.1 in /home/duhuaiyu/anaconda3/envs/pytroch11/lib/python3.6/site-packages (from requests<3,>=2.21.0->tensorboard>=2.2.0; extra == \"extra\"->stable-baselines3[extra]) (1.25.9)\r\n",
      "Requirement already satisfied: idna<3,>=2.5 in /home/duhuaiyu/anaconda3/envs/pytroch11/lib/python3.6/site-packages (from requests<3,>=2.21.0->tensorboard>=2.2.0; extra == \"extra\"->stable-baselines3[extra]) (2.10)\r\n",
      "Requirement already satisfied: certifi>=2017.4.17 in /home/duhuaiyu/anaconda3/envs/pytroch11/lib/python3.6/site-packages (from requests<3,>=2.21.0->tensorboard>=2.2.0; extra == \"extra\"->stable-baselines3[extra]) (2021.5.30)\r\n",
      "Requirement already satisfied: importlib-metadata>=4.4; python_version < \"3.10\" in /home/duhuaiyu/anaconda3/envs/pytroch11/lib/python3.6/site-packages (from markdown>=2.6.8->tensorboard>=2.2.0; extra == \"extra\"->stable-baselines3[extra]) (4.8.2)\r\n",
      "Requirement already satisfied: requests-oauthlib>=0.7.0 in /home/duhuaiyu/anaconda3/envs/pytroch11/lib/python3.6/site-packages (from google-auth-oauthlib<0.5,>=0.4.1->tensorboard>=2.2.0; extra == \"extra\"->stable-baselines3[extra]) (1.3.1)\r\n",
      "Requirement already satisfied: pyasn1<0.5.0,>=0.4.6 in /home/duhuaiyu/anaconda3/envs/pytroch11/lib/python3.6/site-packages (from pyasn1-modules>=0.2.1->google-auth<3,>=1.6.3->tensorboard>=2.2.0; extra == \"extra\"->stable-baselines3[extra]) (0.4.8)\r\n",
      "Requirement already satisfied: zipp>=0.5 in /home/duhuaiyu/anaconda3/envs/pytroch11/lib/python3.6/site-packages (from importlib-metadata>=4.4; python_version < \"3.10\"->markdown>=2.6.8->tensorboard>=2.2.0; extra == \"extra\"->stable-baselines3[extra]) (3.1.0)\r\n",
      "Requirement already satisfied: oauthlib>=3.0.0 in /home/duhuaiyu/anaconda3/envs/pytroch11/lib/python3.6/site-packages (from requests-oauthlib>=0.7.0->google-auth-oauthlib<0.5,>=0.4.1->tensorboard>=2.2.0; extra == \"extra\"->stable-baselines3[extra]) (3.2.0)\r\n"
     ]
    }
   ],
   "source": [
    "import time\n",
    "!apt-get install ffmpeg freeglut3-dev xvfb  # For visualization\n",
    "!pip install stable-baselines3[extra]"
   ]
  },
  {
   "cell_type": "markdown",
   "source": [
    "# This notebook is used for evaluate the performance of all trained models"
   ],
   "metadata": {
    "collapsed": false,
    "pycharm": {
     "name": "#%% md\n"
    }
   }
  },
  {
   "cell_type": "code",
   "execution_count": 2,
   "outputs": [
    {
     "name": "stderr",
     "output_type": "stream",
     "text": [
      "/home/duhuaiyu/anaconda3/envs/torch37cuda11/lib/python3.7/site-packages/tqdm/auto.py:22: TqdmWarning: IProgress not found. Please update jupyter and ipywidgets. See https://ipywidgets.readthedocs.io/en/stable/user_install.html\n",
      "  from .autonotebook import tqdm as notebook_tqdm\n"
     ]
    }
   ],
   "source": [
    "from typing import Any, Dict\n",
    "import pandas as pd\n",
    "from stable_baselines3.common.evaluation import evaluate_policy\n",
    "from stable_baselines3 import PPO\n",
    "from sb3_contrib import RecurrentPPO\n",
    "from Kof97EnvironmentSR import Kof98EnvironmentLSTM\n",
    "from Kof97EnvironmentSR import Kof98EnvironmentV2"
   ],
   "metadata": {
    "collapsed": false,
    "pycharm": {
     "name": "#%%\n"
    }
   }
  },
  {
   "cell_type": "code",
   "execution_count": 3,
   "outputs": [
    {
     "name": "stdout",
     "output_type": "stream",
     "text": [
      "env_id:GEN8532HDPIWJ6G\n"
     ]
    },
    {
     "name": "stderr",
     "output_type": "stream",
     "text": [
      "unzip: /home/duhuaiyu/PycharmProjects/Kof97.zip couldn't find ECD in last 64KiB\n",
      "unzip: /home/duhuaiyu/PycharmProjects/Kof97.zip couldn't find ECD in last 64KiB\n",
      "unzip: /home/duhuaiyu/PycharmProjects/Kof97.zip couldn't find ECD in last 64KiB\n",
      "unzip: /home/duhuaiyu/PycharmProjects/Kof97.zip couldn't find ECD in last 64KiB\n"
     ]
    },
    {
     "name": "stdout",
     "output_type": "stream",
     "text": [
      "b'\\x1b[1;36m[MAME]\\x1b[0m> nil\\n'\n",
      "b'\\x1b[1;36m[MAME]\\x1b[0m> sol.lua_engine::addr_space: 0xec2ee88\\n'\n",
      "b'\\x1b[1;36m[MAME]\\x1b[0m> \\x1b[1;36m[MAME]\\x1b[0m> \\x1b[1;36m[MAME]\\x1b[0m> \\x1b[1;36m[MAME]\\x1b[0m> \\x1b[1;36m[MAME]\\x1b[0m> RGB32 - 32bpp 8-8-8 RGB\\n'\n",
      "b'\\x1b[1;36m[MAME]\\x1b[0m> 320\\n'\n",
      "b'\\x1b[1;36m[MAME]\\x1b[0m> 224\\n'\n",
      "env_id:I2HXVFDUCTU70KS\n"
     ]
    },
    {
     "name": "stderr",
     "output_type": "stream",
     "text": [
      "unzip: /home/duhuaiyu/PycharmProjects/Kof97.zip couldn't find ECD in last 64KiB\n",
      "unzip: /home/duhuaiyu/PycharmProjects/Kof97.zip couldn't find ECD in last 64KiB\n",
      "unzip: /home/duhuaiyu/PycharmProjects/Kof97.zip couldn't find ECD in last 64KiB\n",
      "unzip: /home/duhuaiyu/PycharmProjects/Kof97.zip couldn't find ECD in last 64KiB\n"
     ]
    },
    {
     "name": "stdout",
     "output_type": "stream",
     "text": [
      "b'\\x1b[1;36m[MAME]\\x1b[0m> nil\\n'\n",
      "b'\\x1b[1;36m[MAME]\\x1b[0m> sol.lua_engine::addr_space: 0xd8349b8\\n'\n",
      "b'\\x1b[1;36m[MAME]\\x1b[0m> \\x1b[1;36m[MAME]\\x1b[0m> \\x1b[1;36m[MAME]\\x1b[0m> \\x1b[1;36m[MAME]\\x1b[0m> \\x1b[1;36m[MAME]\\x1b[0m> RGB32 - 32bpp 8-8-8 RGB\\n'\n",
      "b'\\x1b[1;36m[MAME]\\x1b[0m> 320\\n'\n",
      "b'\\x1b[1;36m[MAME]\\x1b[0m> 224\\n'\n",
      "env_id:RQ6EY2255H9SJJD\n"
     ]
    },
    {
     "name": "stderr",
     "output_type": "stream",
     "text": [
      "unzip: /home/duhuaiyu/PycharmProjects/Kof97.zip couldn't find ECD in last 64KiB\n",
      "unzip: /home/duhuaiyu/PycharmProjects/Kof97.zip couldn't find ECD in last 64KiB\n",
      "unzip: /home/duhuaiyu/PycharmProjects/Kof97.zip couldn't find ECD in last 64KiB\n",
      "unzip: /home/duhuaiyu/PycharmProjects/Kof97.zip couldn't find ECD in last 64KiB\n"
     ]
    },
    {
     "name": "stdout",
     "output_type": "stream",
     "text": [
      "b'\\x1b[1;36m[MAME]\\x1b[0m> nil\\n'\n",
      "b'\\x1b[1;36m[MAME]\\x1b[0m> sol.lua_engine::addr_space: 0xdaeeff8\\n'\n",
      "b'\\x1b[1;36m[MAME]\\x1b[0m> \\x1b[1;36m[MAME]\\x1b[0m> \\x1b[1;36m[MAME]\\x1b[0m> \\x1b[1;36m[MAME]\\x1b[0m> \\x1b[1;36m[MAME]\\x1b[0m> RGB32 - 32bpp 8-8-8 RGB\\n'\n",
      "b'\\x1b[1;36m[MAME]\\x1b[0m> 320\\n'\n",
      "b'\\x1b[1;36m[MAME]\\x1b[0m> 224\\n'\n",
      "env_id:P1XLGMUV8XXQIPY\n"
     ]
    },
    {
     "name": "stderr",
     "output_type": "stream",
     "text": [
      "unzip: /home/duhuaiyu/PycharmProjects/Kof97.zip couldn't find ECD in last 64KiB\n",
      "unzip: /home/duhuaiyu/PycharmProjects/Kof97.zip couldn't find ECD in last 64KiB\n",
      "unzip: /home/duhuaiyu/PycharmProjects/Kof97.zip couldn't find ECD in last 64KiB\n",
      "unzip: /home/duhuaiyu/PycharmProjects/Kof97.zip couldn't find ECD in last 64KiB\n"
     ]
    },
    {
     "name": "stdout",
     "output_type": "stream",
     "text": [
      "b'\\x1b[1;36m[MAME]\\x1b[0m> nil\\n'\n",
      "b'\\x1b[1;36m[MAME]\\x1b[0m> sol.lua_engine::addr_space: 0xda52b98\\n'\n",
      "b'\\x1b[1;36m[MAME]\\x1b[0m> \\x1b[1;36m[MAME]\\x1b[0m> \\x1b[1;36m[MAME]\\x1b[0m> \\x1b[1;36m[MAME]\\x1b[0m> \\x1b[1;36m[MAME]\\x1b[0m> RGB32 - 32bpp 8-8-8 RGB\\n'\n",
      "b'\\x1b[1;36m[MAME]\\x1b[0m> 320\\n'\n",
      "b'\\x1b[1;36m[MAME]\\x1b[0m> 224\\n'\n",
      "env_id:N0FQHB61MVXMRGK\n"
     ]
    },
    {
     "name": "stderr",
     "output_type": "stream",
     "text": [
      "unzip: /home/duhuaiyu/PycharmProjects/Kof97.zip couldn't find ECD in last 64KiB\n",
      "unzip: /home/duhuaiyu/PycharmProjects/Kof97.zip couldn't find ECD in last 64KiB\n",
      "unzip: /home/duhuaiyu/PycharmProjects/Kof97.zip couldn't find ECD in last 64KiB\n",
      "unzip: /home/duhuaiyu/PycharmProjects/Kof97.zip couldn't find ECD in last 64KiB\n"
     ]
    },
    {
     "name": "stdout",
     "output_type": "stream",
     "text": [
      "b'\\x1b[1;36m[MAME]\\x1b[0m> nil\\n'\n",
      "b'\\x1b[1;36m[MAME]\\x1b[0m> sol.lua_engine::addr_space: 0xe96d548\\n'\n",
      "b'\\x1b[1;36m[MAME]\\x1b[0m> \\x1b[1;36m[MAME]\\x1b[0m> \\x1b[1;36m[MAME]\\x1b[0m> \\x1b[1;36m[MAME]\\x1b[0m> \\x1b[1;36m[MAME]\\x1b[0m> RGB32 - 32bpp 8-8-8 RGB\\n'\n",
      "b'\\x1b[1;36m[MAME]\\x1b[0m> 320\\n'\n",
      "b'\\x1b[1;36m[MAME]\\x1b[0m> 224\\n'\n"
     ]
    }
   ],
   "source": [
    "roms_path = \"roms/\"\n",
    "# prepare environments for different models\n",
    "# Multi_CNN environment for opponent Kyo\n",
    "env = Kof98EnvironmentV2(roms_path=roms_path, CH=\"CH0\")\n",
    "# Multi_CNN environment for opponent Daimon\n",
    "env_CH2 = Kof98EnvironmentV2(roms_path=roms_path, CH=\"CH2\")\n",
    "# Multi_CNN environment for opponent Mai\n",
    "env_CH16 = Kof98EnvironmentV2(roms_path=roms_path, CH=\"CH16\")\n",
    "# Multi_CNN environment for opponent Billy\n",
    "env_CH26 = Kof98EnvironmentV2(roms_path=roms_path, CH=\"CH26\")\n",
    "# LSTM environment for opponent Kyo\n",
    "lstm_env = Kof98EnvironmentLSTM(roms_path=roms_path, CH=\"CH0\")"
   ],
   "metadata": {
    "collapsed": false,
    "pycharm": {
     "name": "#%%\n"
    }
   }
  },
  {
   "cell_type": "code",
   "execution_count": 4,
   "outputs": [
    {
     "name": "stdout",
     "output_type": "stream",
     "text": [
      "Kof97_PPO_V2_t3_1\n"
     ]
    },
    {
     "name": "stderr",
     "output_type": "stream",
     "text": [
      "/home/duhuaiyu/anaconda3/envs/torch37cuda11/lib/python3.7/site-packages/stable_baselines3/common/evaluation.py:69: UserWarning: Evaluation environment is not wrapped with a ``Monitor`` wrapper. This may result in reporting modified episode lengths and rewards, if other wrappers happen to modify these. Consider wrapping environment first with ``Monitor`` wrapper.\n",
      "  UserWarning,\n",
      "[LUA ERROR] in execute_function: [string \"function pipeData() if (math.fmod(tonumber(s:...\"]:1: bad argument #1 to 'len' (string expected, got nil)\n",
      "[LUA ERROR] in execute_function: [string \"function pipeData() if (math.fmod(tonumber(s:...\"]:1: bad argument #1 to 'len' (string expected, got nil)\n",
      "[LUA ERROR] in execute_function: [string \"function pipeData() if (math.fmod(tonumber(s:...\"]:1: bad argument #1 to 'len' (string expected, got nil)\n",
      "[LUA ERROR] in execute_function: [string \"function pipeData() if (math.fmod(tonumber(s:...\"]:1: bad argument #1 to 'len' (string expected, got nil)\n",
      "[LUA ERROR] in execute_function: [string \"function pipeData() if (math.fmod(tonumber(s:...\"]:1: bad argument #1 to 'len' (string expected, got nil)\n"
     ]
    },
    {
     "ename": "KeyboardInterrupt",
     "evalue": "",
     "output_type": "error",
     "traceback": [
      "\u001B[0;31m---------------------------------------------------------------------------\u001B[0m",
      "\u001B[0;31mKeyboardInterrupt\u001B[0m                         Traceback (most recent call last)",
      "\u001B[0;32m/tmp/ipykernel_6974/1110774684.py\u001B[0m in \u001B[0;36m<module>\u001B[0;34m\u001B[0m\n\u001B[1;32m     61\u001B[0m             \u001B[0mn_eval_episodes\u001B[0m\u001B[0;34m=\u001B[0m\u001B[0m_n_eval_episodes\u001B[0m\u001B[0;34m,\u001B[0m\u001B[0;34m\u001B[0m\u001B[0;34m\u001B[0m\u001B[0m\n\u001B[1;32m     62\u001B[0m             \u001B[0mdeterministic\u001B[0m\u001B[0;34m=\u001B[0m\u001B[0;32mFalse\u001B[0m\u001B[0;34m,\u001B[0m\u001B[0;34m\u001B[0m\u001B[0;34m\u001B[0m\u001B[0m\n\u001B[0;32m---> 63\u001B[0;31m             return_episode_rewards=False)\n\u001B[0m\u001B[1;32m     64\u001B[0m     \u001B[0mstatic_info_meanrward\u001B[0m\u001B[0;34m.\u001B[0m\u001B[0mappend\u001B[0m\u001B[0;34m(\u001B[0m\u001B[0;34m[\u001B[0m\u001B[0mkey\u001B[0m\u001B[0;34m,\u001B[0m\u001B[0mmean_reward\u001B[0m\u001B[0;34m,\u001B[0m \u001B[0mstd_reward\u001B[0m\u001B[0;34m]\u001B[0m\u001B[0;34m)\u001B[0m\u001B[0;34m\u001B[0m\u001B[0;34m\u001B[0m\u001B[0m\n\u001B[1;32m     65\u001B[0m     \u001B[0mcombo_df_temp\u001B[0m \u001B[0;34m=\u001B[0m \u001B[0mpd\u001B[0m\u001B[0;34m.\u001B[0m\u001B[0mDataFrame\u001B[0m\u001B[0;34m(\u001B[0m\u001B[0mcombos\u001B[0m\u001B[0;34m.\u001B[0m\u001B[0mitems\u001B[0m\u001B[0;34m(\u001B[0m\u001B[0;34m)\u001B[0m\u001B[0;34m,\u001B[0m\u001B[0mcolumns\u001B[0m\u001B[0;34m=\u001B[0m\u001B[0;34m[\u001B[0m\u001B[0;34m\"combo\"\u001B[0m\u001B[0;34m,\u001B[0m\u001B[0;34m\"count\"\u001B[0m\u001B[0;34m]\u001B[0m\u001B[0;34m)\u001B[0m\u001B[0;34m\u001B[0m\u001B[0;34m\u001B[0m\u001B[0m\n",
      "\u001B[0;32m~/anaconda3/envs/torch37cuda11/lib/python3.7/site-packages/stable_baselines3/common/evaluation.py\u001B[0m in \u001B[0;36mevaluate_policy\u001B[0;34m(model, env, n_eval_episodes, deterministic, render, callback, reward_threshold, return_episode_rewards, warn)\u001B[0m\n\u001B[1;32m     85\u001B[0m     \u001B[0;32mwhile\u001B[0m \u001B[0;34m(\u001B[0m\u001B[0mepisode_counts\u001B[0m \u001B[0;34m<\u001B[0m \u001B[0mepisode_count_targets\u001B[0m\u001B[0;34m)\u001B[0m\u001B[0;34m.\u001B[0m\u001B[0many\u001B[0m\u001B[0;34m(\u001B[0m\u001B[0;34m)\u001B[0m\u001B[0;34m:\u001B[0m\u001B[0;34m\u001B[0m\u001B[0;34m\u001B[0m\u001B[0m\n\u001B[1;32m     86\u001B[0m         \u001B[0mactions\u001B[0m\u001B[0;34m,\u001B[0m \u001B[0mstates\u001B[0m \u001B[0;34m=\u001B[0m \u001B[0mmodel\u001B[0m\u001B[0;34m.\u001B[0m\u001B[0mpredict\u001B[0m\u001B[0;34m(\u001B[0m\u001B[0mobservations\u001B[0m\u001B[0;34m,\u001B[0m \u001B[0mstate\u001B[0m\u001B[0;34m=\u001B[0m\u001B[0mstates\u001B[0m\u001B[0;34m,\u001B[0m \u001B[0mepisode_start\u001B[0m\u001B[0;34m=\u001B[0m\u001B[0mepisode_starts\u001B[0m\u001B[0;34m,\u001B[0m \u001B[0mdeterministic\u001B[0m\u001B[0;34m=\u001B[0m\u001B[0mdeterministic\u001B[0m\u001B[0;34m)\u001B[0m\u001B[0;34m\u001B[0m\u001B[0;34m\u001B[0m\u001B[0m\n\u001B[0;32m---> 87\u001B[0;31m         \u001B[0mobservations\u001B[0m\u001B[0;34m,\u001B[0m \u001B[0mrewards\u001B[0m\u001B[0;34m,\u001B[0m \u001B[0mdones\u001B[0m\u001B[0;34m,\u001B[0m \u001B[0minfos\u001B[0m \u001B[0;34m=\u001B[0m \u001B[0menv\u001B[0m\u001B[0;34m.\u001B[0m\u001B[0mstep\u001B[0m\u001B[0;34m(\u001B[0m\u001B[0mactions\u001B[0m\u001B[0;34m)\u001B[0m\u001B[0;34m\u001B[0m\u001B[0;34m\u001B[0m\u001B[0m\n\u001B[0m\u001B[1;32m     88\u001B[0m         \u001B[0mcurrent_rewards\u001B[0m \u001B[0;34m+=\u001B[0m \u001B[0mrewards\u001B[0m\u001B[0;34m\u001B[0m\u001B[0;34m\u001B[0m\u001B[0m\n\u001B[1;32m     89\u001B[0m         \u001B[0mcurrent_lengths\u001B[0m \u001B[0;34m+=\u001B[0m \u001B[0;36m1\u001B[0m\u001B[0;34m\u001B[0m\u001B[0;34m\u001B[0m\u001B[0m\n",
      "\u001B[0;32m~/anaconda3/envs/torch37cuda11/lib/python3.7/site-packages/stable_baselines3/common/vec_env/base_vec_env.py\u001B[0m in \u001B[0;36mstep\u001B[0;34m(self, actions)\u001B[0m\n\u001B[1;32m    160\u001B[0m         \"\"\"\n\u001B[1;32m    161\u001B[0m         \u001B[0mself\u001B[0m\u001B[0;34m.\u001B[0m\u001B[0mstep_async\u001B[0m\u001B[0;34m(\u001B[0m\u001B[0mactions\u001B[0m\u001B[0;34m)\u001B[0m\u001B[0;34m\u001B[0m\u001B[0;34m\u001B[0m\u001B[0m\n\u001B[0;32m--> 162\u001B[0;31m         \u001B[0;32mreturn\u001B[0m \u001B[0mself\u001B[0m\u001B[0;34m.\u001B[0m\u001B[0mstep_wait\u001B[0m\u001B[0;34m(\u001B[0m\u001B[0;34m)\u001B[0m\u001B[0;34m\u001B[0m\u001B[0;34m\u001B[0m\u001B[0m\n\u001B[0m\u001B[1;32m    163\u001B[0m \u001B[0;34m\u001B[0m\u001B[0m\n\u001B[1;32m    164\u001B[0m     \u001B[0;32mdef\u001B[0m \u001B[0mget_images\u001B[0m\u001B[0;34m(\u001B[0m\u001B[0mself\u001B[0m\u001B[0;34m)\u001B[0m \u001B[0;34m->\u001B[0m \u001B[0mSequence\u001B[0m\u001B[0;34m[\u001B[0m\u001B[0mnp\u001B[0m\u001B[0;34m.\u001B[0m\u001B[0mndarray\u001B[0m\u001B[0;34m]\u001B[0m\u001B[0;34m:\u001B[0m\u001B[0;34m\u001B[0m\u001B[0;34m\u001B[0m\u001B[0m\n",
      "\u001B[0;32m~/anaconda3/envs/torch37cuda11/lib/python3.7/site-packages/stable_baselines3/common/vec_env/dummy_vec_env.py\u001B[0m in \u001B[0;36mstep_wait\u001B[0;34m(self)\u001B[0m\n\u001B[1;32m     47\u001B[0m                 \u001B[0;31m# save final observation where user can get it, then reset\u001B[0m\u001B[0;34m\u001B[0m\u001B[0;34m\u001B[0m\u001B[0;34m\u001B[0m\u001B[0m\n\u001B[1;32m     48\u001B[0m                 \u001B[0mself\u001B[0m\u001B[0;34m.\u001B[0m\u001B[0mbuf_infos\u001B[0m\u001B[0;34m[\u001B[0m\u001B[0menv_idx\u001B[0m\u001B[0;34m]\u001B[0m\u001B[0;34m[\u001B[0m\u001B[0;34m\"terminal_observation\"\u001B[0m\u001B[0;34m]\u001B[0m \u001B[0;34m=\u001B[0m \u001B[0mobs\u001B[0m\u001B[0;34m\u001B[0m\u001B[0;34m\u001B[0m\u001B[0m\n\u001B[0;32m---> 49\u001B[0;31m                 \u001B[0mobs\u001B[0m \u001B[0;34m=\u001B[0m \u001B[0mself\u001B[0m\u001B[0;34m.\u001B[0m\u001B[0menvs\u001B[0m\u001B[0;34m[\u001B[0m\u001B[0menv_idx\u001B[0m\u001B[0;34m]\u001B[0m\u001B[0;34m.\u001B[0m\u001B[0mreset\u001B[0m\u001B[0;34m(\u001B[0m\u001B[0;34m)\u001B[0m\u001B[0;34m\u001B[0m\u001B[0;34m\u001B[0m\u001B[0m\n\u001B[0m\u001B[1;32m     50\u001B[0m             \u001B[0mself\u001B[0m\u001B[0;34m.\u001B[0m\u001B[0m_save_obs\u001B[0m\u001B[0;34m(\u001B[0m\u001B[0menv_idx\u001B[0m\u001B[0;34m,\u001B[0m \u001B[0mobs\u001B[0m\u001B[0;34m)\u001B[0m\u001B[0;34m\u001B[0m\u001B[0;34m\u001B[0m\u001B[0m\n\u001B[1;32m     51\u001B[0m         \u001B[0;32mreturn\u001B[0m \u001B[0;34m(\u001B[0m\u001B[0mself\u001B[0m\u001B[0;34m.\u001B[0m\u001B[0m_obs_from_buf\u001B[0m\u001B[0;34m(\u001B[0m\u001B[0;34m)\u001B[0m\u001B[0;34m,\u001B[0m \u001B[0mnp\u001B[0m\u001B[0;34m.\u001B[0m\u001B[0mcopy\u001B[0m\u001B[0;34m(\u001B[0m\u001B[0mself\u001B[0m\u001B[0;34m.\u001B[0m\u001B[0mbuf_rews\u001B[0m\u001B[0;34m)\u001B[0m\u001B[0;34m,\u001B[0m \u001B[0mnp\u001B[0m\u001B[0;34m.\u001B[0m\u001B[0mcopy\u001B[0m\u001B[0;34m(\u001B[0m\u001B[0mself\u001B[0m\u001B[0;34m.\u001B[0m\u001B[0mbuf_dones\u001B[0m\u001B[0;34m)\u001B[0m\u001B[0;34m,\u001B[0m \u001B[0mdeepcopy\u001B[0m\u001B[0;34m(\u001B[0m\u001B[0mself\u001B[0m\u001B[0;34m.\u001B[0m\u001B[0mbuf_infos\u001B[0m\u001B[0;34m)\u001B[0m\u001B[0;34m)\u001B[0m\u001B[0;34m\u001B[0m\u001B[0;34m\u001B[0m\u001B[0m\n",
      "\u001B[0;32m~/PycharmProjects/Kof97/Kof97EnvironmentSR.py\u001B[0m in \u001B[0;36mreset\u001B[0;34m(self)\u001B[0m\n\u001B[1;32m    605\u001B[0m                                   maxlen=Kof98EnvironmentV2.act_queue_length)\n\u001B[1;32m    606\u001B[0m         \u001B[0mpath\u001B[0m \u001B[0;34m=\u001B[0m \u001B[0mjoin\u001B[0m\u001B[0;34m(\u001B[0m\u001B[0mself\u001B[0m\u001B[0;34m.\u001B[0m\u001B[0mfull_saving_path\u001B[0m\u001B[0;34m,\u001B[0m\u001B[0mrandom\u001B[0m\u001B[0;34m.\u001B[0m\u001B[0mchoice\u001B[0m\u001B[0;34m(\u001B[0m\u001B[0mself\u001B[0m\u001B[0;34m.\u001B[0m\u001B[0msave_files\u001B[0m\u001B[0;34m)\u001B[0m\u001B[0;34m)\u001B[0m\u001B[0;34m\u001B[0m\u001B[0;34m\u001B[0m\u001B[0m\n\u001B[0;32m--> 607\u001B[0;31m         \u001B[0mself\u001B[0m\u001B[0;34m.\u001B[0m\u001B[0memu\u001B[0m\u001B[0;34m.\u001B[0m\u001B[0mconsole\u001B[0m\u001B[0;34m.\u001B[0m\u001B[0mwriteln\u001B[0m\u001B[0;34m(\u001B[0m\u001B[0;34mf'manager:machine():load(\"{path}\")'\u001B[0m\u001B[0;34m)\u001B[0m\u001B[0;34m\u001B[0m\u001B[0;34m\u001B[0m\u001B[0m\n\u001B[0m\u001B[1;32m    608\u001B[0m         \u001B[0;32mreturn\u001B[0m \u001B[0mself\u001B[0m\u001B[0;34m.\u001B[0m\u001B[0mpreprocess\u001B[0m\u001B[0;34m(\u001B[0m\u001B[0mself\u001B[0m\u001B[0;34m.\u001B[0m\u001B[0mwait_for_fight_start\u001B[0m\u001B[0;34m(\u001B[0m\u001B[0;34m)\u001B[0m\u001B[0;34m)\u001B[0m\u001B[0;34m\u001B[0m\u001B[0;34m\u001B[0m\u001B[0m\n\u001B[1;32m    609\u001B[0m \u001B[0;34m\u001B[0m\u001B[0m\n",
      "\u001B[0;32m~/anaconda3/envs/torch37cuda11/lib/python3.7/site-packages/MAMEToolkit/emulator/Console.py\u001B[0m in \u001B[0;36mwriteln\u001B[0;34m(self, command, expect_output, timeout, raiseError)\u001B[0m\n\u001B[1;32m     79\u001B[0m         \u001B[0mself\u001B[0m\u001B[0;34m.\u001B[0m\u001B[0mprocess\u001B[0m\u001B[0;34m.\u001B[0m\u001B[0mstdin\u001B[0m\u001B[0;34m.\u001B[0m\u001B[0mwrite\u001B[0m\u001B[0;34m(\u001B[0m\u001B[0mcommand\u001B[0m\u001B[0;34m.\u001B[0m\u001B[0mencode\u001B[0m\u001B[0;34m(\u001B[0m\u001B[0;34m\"utf-8\"\u001B[0m\u001B[0;34m)\u001B[0m \u001B[0;34m+\u001B[0m \u001B[0;34mb'\\n'\u001B[0m\u001B[0;34m)\u001B[0m\u001B[0;34m\u001B[0m\u001B[0;34m\u001B[0m\u001B[0m\n\u001B[1;32m     80\u001B[0m         \u001B[0mself\u001B[0m\u001B[0;34m.\u001B[0m\u001B[0mprocess\u001B[0m\u001B[0;34m.\u001B[0m\u001B[0mstdin\u001B[0m\u001B[0;34m.\u001B[0m\u001B[0mflush\u001B[0m\u001B[0;34m(\u001B[0m\u001B[0;34m)\u001B[0m\u001B[0;34m\u001B[0m\u001B[0;34m\u001B[0m\u001B[0m\n\u001B[0;32m---> 81\u001B[0;31m         \u001B[0moutput\u001B[0m \u001B[0;34m=\u001B[0m \u001B[0mself\u001B[0m\u001B[0;34m.\u001B[0m\u001B[0mreadAll\u001B[0m\u001B[0;34m(\u001B[0m\u001B[0mtimeout\u001B[0m\u001B[0;34m=\u001B[0m\u001B[0mtimeout\u001B[0m\u001B[0;34m)\u001B[0m\u001B[0;34m\u001B[0m\u001B[0;34m\u001B[0m\u001B[0m\n\u001B[0m\u001B[1;32m     82\u001B[0m \u001B[0;34m\u001B[0m\u001B[0m\n\u001B[1;32m     83\u001B[0m         \u001B[0;32mif\u001B[0m \u001B[0mexpect_output\u001B[0m \u001B[0;32mand\u001B[0m \u001B[0mlen\u001B[0m\u001B[0;34m(\u001B[0m\u001B[0moutput\u001B[0m\u001B[0;34m)\u001B[0m \u001B[0;34m==\u001B[0m \u001B[0;36m0\u001B[0m\u001B[0;34m:\u001B[0m\u001B[0;34m\u001B[0m\u001B[0;34m\u001B[0m\u001B[0m\n",
      "\u001B[0;32m~/anaconda3/envs/torch37cuda11/lib/python3.7/site-packages/MAMEToolkit/emulator/Console.py\u001B[0m in \u001B[0;36mreadAll\u001B[0;34m(self, timeout)\u001B[0m\n\u001B[1;32m     71\u001B[0m         \u001B[0;32mwhile\u001B[0m \u001B[0;32mTrue\u001B[0m\u001B[0;34m:\u001B[0m\u001B[0;34m\u001B[0m\u001B[0;34m\u001B[0m\u001B[0m\n\u001B[1;32m     72\u001B[0m             \u001B[0;32mtry\u001B[0m\u001B[0;34m:\u001B[0m\u001B[0;34m\u001B[0m\u001B[0;34m\u001B[0m\u001B[0m\n\u001B[0;32m---> 73\u001B[0;31m                 \u001B[0mlines\u001B[0m\u001B[0;34m.\u001B[0m\u001B[0mappend\u001B[0m\u001B[0;34m(\u001B[0m\u001B[0mself\u001B[0m\u001B[0;34m.\u001B[0m\u001B[0mreadln\u001B[0m\u001B[0;34m(\u001B[0m\u001B[0mtimeout\u001B[0m\u001B[0;34m=\u001B[0m\u001B[0mtimeout\u001B[0m\u001B[0;34m)\u001B[0m\u001B[0;34m)\u001B[0m\u001B[0;34m\u001B[0m\u001B[0;34m\u001B[0m\u001B[0m\n\u001B[0m\u001B[1;32m     74\u001B[0m             \u001B[0;32mexcept\u001B[0m \u001B[0mqueue\u001B[0m\u001B[0;34m.\u001B[0m\u001B[0mEmpty\u001B[0m \u001B[0;32mas\u001B[0m \u001B[0me\u001B[0m\u001B[0;34m:\u001B[0m\u001B[0;34m\u001B[0m\u001B[0;34m\u001B[0m\u001B[0m\n\u001B[1;32m     75\u001B[0m                 \u001B[0;32mbreak\u001B[0m\u001B[0;34m\u001B[0m\u001B[0;34m\u001B[0m\u001B[0m\n",
      "\u001B[0;32m~/anaconda3/envs/torch37cuda11/lib/python3.7/site-packages/MAMEToolkit/emulator/Console.py\u001B[0m in \u001B[0;36mreadln\u001B[0;34m(self, timeout)\u001B[0m\n\u001B[1;32m     60\u001B[0m     \u001B[0;31m# timeout determines how long the function will wait for an output if there is nothing immediately available\u001B[0m\u001B[0;34m\u001B[0m\u001B[0;34m\u001B[0m\u001B[0;34m\u001B[0m\u001B[0m\n\u001B[1;32m     61\u001B[0m     \u001B[0;32mdef\u001B[0m \u001B[0mreadln\u001B[0m\u001B[0;34m(\u001B[0m\u001B[0mself\u001B[0m\u001B[0;34m,\u001B[0m \u001B[0mtimeout\u001B[0m\u001B[0;34m=\u001B[0m\u001B[0;36m0.5\u001B[0m\u001B[0;34m)\u001B[0m\u001B[0;34m:\u001B[0m\u001B[0;34m\u001B[0m\u001B[0;34m\u001B[0m\u001B[0m\n\u001B[0;32m---> 62\u001B[0;31m         \u001B[0mline\u001B[0m \u001B[0;34m=\u001B[0m \u001B[0mself\u001B[0m\u001B[0;34m.\u001B[0m\u001B[0mstdout_queue\u001B[0m\u001B[0;34m.\u001B[0m\u001B[0mget\u001B[0m\u001B[0;34m(\u001B[0m\u001B[0mtimeout\u001B[0m\u001B[0;34m=\u001B[0m\u001B[0mtimeout\u001B[0m\u001B[0;34m)\u001B[0m\u001B[0;34m\u001B[0m\u001B[0;34m\u001B[0m\u001B[0m\n\u001B[0m\u001B[1;32m     63\u001B[0m         \u001B[0;32mwhile\u001B[0m \u001B[0mlen\u001B[0m\u001B[0;34m(\u001B[0m\u001B[0mline\u001B[0m\u001B[0;34m)\u001B[0m\u001B[0;34m>\u001B[0m\u001B[0;36m0\u001B[0m \u001B[0;32mand\u001B[0m \u001B[0mline\u001B[0m\u001B[0;34m[\u001B[0m\u001B[0;36m0\u001B[0m\u001B[0;34m]\u001B[0m \u001B[0;34m==\u001B[0m \u001B[0;36m27\u001B[0m\u001B[0;34m:\u001B[0m\u001B[0;34m\u001B[0m\u001B[0;34m\u001B[0m\u001B[0m\n\u001B[1;32m     64\u001B[0m             \u001B[0mline\u001B[0m \u001B[0;34m=\u001B[0m \u001B[0mline\u001B[0m\u001B[0;34m[\u001B[0m\u001B[0;36m19\u001B[0m\u001B[0;34m:\u001B[0m\u001B[0;34m]\u001B[0m\u001B[0;34m\u001B[0m\u001B[0;34m\u001B[0m\u001B[0m\n",
      "\u001B[0;32m~/anaconda3/envs/torch37cuda11/lib/python3.7/queue.py\u001B[0m in \u001B[0;36mget\u001B[0;34m(self, block, timeout)\u001B[0m\n\u001B[1;32m    177\u001B[0m                     \u001B[0;32mif\u001B[0m \u001B[0mremaining\u001B[0m \u001B[0;34m<=\u001B[0m \u001B[0;36m0.0\u001B[0m\u001B[0;34m:\u001B[0m\u001B[0;34m\u001B[0m\u001B[0;34m\u001B[0m\u001B[0m\n\u001B[1;32m    178\u001B[0m                         \u001B[0;32mraise\u001B[0m \u001B[0mEmpty\u001B[0m\u001B[0;34m\u001B[0m\u001B[0;34m\u001B[0m\u001B[0m\n\u001B[0;32m--> 179\u001B[0;31m                     \u001B[0mself\u001B[0m\u001B[0;34m.\u001B[0m\u001B[0mnot_empty\u001B[0m\u001B[0;34m.\u001B[0m\u001B[0mwait\u001B[0m\u001B[0;34m(\u001B[0m\u001B[0mremaining\u001B[0m\u001B[0;34m)\u001B[0m\u001B[0;34m\u001B[0m\u001B[0;34m\u001B[0m\u001B[0m\n\u001B[0m\u001B[1;32m    180\u001B[0m             \u001B[0mitem\u001B[0m \u001B[0;34m=\u001B[0m \u001B[0mself\u001B[0m\u001B[0;34m.\u001B[0m\u001B[0m_get\u001B[0m\u001B[0;34m(\u001B[0m\u001B[0;34m)\u001B[0m\u001B[0;34m\u001B[0m\u001B[0;34m\u001B[0m\u001B[0m\n\u001B[1;32m    181\u001B[0m             \u001B[0mself\u001B[0m\u001B[0;34m.\u001B[0m\u001B[0mnot_full\u001B[0m\u001B[0;34m.\u001B[0m\u001B[0mnotify\u001B[0m\u001B[0;34m(\u001B[0m\u001B[0;34m)\u001B[0m\u001B[0;34m\u001B[0m\u001B[0;34m\u001B[0m\u001B[0m\n",
      "\u001B[0;32m~/anaconda3/envs/torch37cuda11/lib/python3.7/threading.py\u001B[0m in \u001B[0;36mwait\u001B[0;34m(self, timeout)\u001B[0m\n\u001B[1;32m    298\u001B[0m             \u001B[0;32melse\u001B[0m\u001B[0;34m:\u001B[0m\u001B[0;34m\u001B[0m\u001B[0;34m\u001B[0m\u001B[0m\n\u001B[1;32m    299\u001B[0m                 \u001B[0;32mif\u001B[0m \u001B[0mtimeout\u001B[0m \u001B[0;34m>\u001B[0m \u001B[0;36m0\u001B[0m\u001B[0;34m:\u001B[0m\u001B[0;34m\u001B[0m\u001B[0;34m\u001B[0m\u001B[0m\n\u001B[0;32m--> 300\u001B[0;31m                     \u001B[0mgotit\u001B[0m \u001B[0;34m=\u001B[0m \u001B[0mwaiter\u001B[0m\u001B[0;34m.\u001B[0m\u001B[0macquire\u001B[0m\u001B[0;34m(\u001B[0m\u001B[0;32mTrue\u001B[0m\u001B[0;34m,\u001B[0m \u001B[0mtimeout\u001B[0m\u001B[0;34m)\u001B[0m\u001B[0;34m\u001B[0m\u001B[0;34m\u001B[0m\u001B[0m\n\u001B[0m\u001B[1;32m    301\u001B[0m                 \u001B[0;32melse\u001B[0m\u001B[0;34m:\u001B[0m\u001B[0;34m\u001B[0m\u001B[0;34m\u001B[0m\u001B[0m\n\u001B[1;32m    302\u001B[0m                     \u001B[0mgotit\u001B[0m \u001B[0;34m=\u001B[0m \u001B[0mwaiter\u001B[0m\u001B[0;34m.\u001B[0m\u001B[0macquire\u001B[0m\u001B[0;34m(\u001B[0m\u001B[0;32mFalse\u001B[0m\u001B[0;34m)\u001B[0m\u001B[0;34m\u001B[0m\u001B[0;34m\u001B[0m\u001B[0m\n",
      "\u001B[0;31mKeyboardInterrupt\u001B[0m: "
     ]
    }
   ],
   "source": [
    "\n",
    "static_info = []\n",
    "static_info_meanrward = []\n",
    "combo_df = pd.DataFrame(columns=[\"category\", \"combo\",\"count\"])\n",
    "ACT_df = pd.DataFrame(columns=[\"category\", \"ACT\",\"count\"])\n",
    "# prepare names, envs and model names\n",
    "models = {\n",
    "    \"Multi-CNN VS Kyo Kusanagi\" : {\"model\":'Kof97_PPO_V2_t3_1', \"env\":env},\n",
    "    \"Multi-CNN VS Goro Daimon\" : {\"model\":'Kof97_PPO_V2_t3_1_Transfer_CH2_2', \"env\":env_CH2},\n",
    "    \"Multi-CNN VS Mai Shiranui\" : {\"model\":'Kof97_PPO_V2_t3_1_transfer_CH16', \"env\":env_CH16},\n",
    "    \"Multi-CNN VS Billy\" : {\"model\":'Kof97_PPO_V2_t3_1_transfer_CH26', \"env\":env_CH26},\n",
    "    \"LSTM VS Kyo Kusanagi 786 units\" : {\"model\":'Kof97_PPO_LSTM_layer1_768_3', \"env\":lstm_env},\n",
    "}\n",
    "# for each model, evaluate 50 episodes\n",
    "_n_eval_episodes = 50\n",
    "for key,value in models.items():\n",
    "    #print(\"============\",key)\n",
    "    #print(value)\n",
    "    model_name = value[\"model\"]\n",
    "    env_local = value[\"env\"]\n",
    "    print(model_name)\n",
    "    if key.startswith(\"LSTM\"):\n",
    "        # load Recursion Model\n",
    "        model = RecurrentPPO.load(model_name, env=env_local)\n",
    "    else:\n",
    "        # load Basic Model\n",
    "        model = PPO.load(model_name, env=env_local)\n",
    "    df = pd.DataFrame()\n",
    "    combos={i: 0 for i in range(2,13)}\n",
    "    ACTs={i: 0 for i in range(0,512)}\n",
    "\n",
    "    # the call back function is used for collecting statistic data\n",
    "    def eval_callback(_locals: Dict[str, Any], _globals: Dict[str, Any]) -> None:\n",
    "        \"\"\"\n",
    "        Renders the environment in its current state, recording the screen in the captured `screens` list\n",
    "\n",
    "        :param _locals: A dictionary containing all local variables of the callback's scope\n",
    "        :param _globals: A dictionary containing all global variables of the callback's scope\n",
    "        \"\"\"\n",
    "        # statistic combos\n",
    "        combo_num = _locals[\"info\"][\"2P_combo\"]\n",
    "        act_1p = _locals[\"info\"][\"1P_Action\"]\n",
    "        ACTs[act_1p] += 1\n",
    "        if combo_num == 0 and _globals.get(\"combo_num\") is not None and _globals.get(\"combo_num\") > 0:\n",
    "            combos[_globals.get(\"combo_num\")] +=1\n",
    "        _globals[\"combo_num\"] = combo_num\n",
    "        current_episode = _locals[\"episode_counts\"][0]\n",
    "        # statistic win_loss\n",
    "        if _locals[\"dones\"][0]:\n",
    "            #print(_locals[\"info\"].get(\"win_loss\") )\n",
    "            #print(_locals[\"info\"].get(\"time\"))\n",
    "            hex_time = _locals[\"info\"].get(\"time\")\n",
    "            ten_place, one_place = divmod(hex_time,16)\n",
    "            time = ten_place*10 + one_place\n",
    "            #print(time)\n",
    "            static_info.append([key,current_episode,_locals[\"info\"].get(\"win_loss\"),time,_locals[\"info\"].get(\"healthP1\")])\n",
    "\n",
    "    mean_reward, std_reward = evaluate_policy(\n",
    "            model,\n",
    "            env_local,\n",
    "            callback=eval_callback,\n",
    "            n_eval_episodes=_n_eval_episodes,\n",
    "            deterministic=False,\n",
    "            return_episode_rewards=False)\n",
    "    static_info_meanrward.append([key,mean_reward, std_reward])\n",
    "    combo_df_temp = pd.DataFrame(combos.items(),columns=[\"combo\",\"count\"])\n",
    "    combo_df_temp[\"category\"] = key\n",
    "    combo_df = combo_df.append(combo_df_temp)\n",
    "    act_df_temp = pd.DataFrame(ACTs.items(),columns=[\"ACT\",\"count\"])\n",
    "    act_df_temp[\"category\"] = key\n",
    "    ACT_df = ACT_df.append(act_df_temp)\n",
    "    # print(static_info)\n",
    "    # print(ACTs)\n",
    "    # print(combos)\n",
    "\n"
   ],
   "metadata": {
    "collapsed": false,
    "pycharm": {
     "name": "#%%\n"
    }
   }
  },
  {
   "cell_type": "code",
   "execution_count": 7,
   "outputs": [],
   "source": [
    "# save all statistic data to csv files\n",
    "static_info_df = pd.DataFrame(static_info,columns=[\"category\", \"episode\",\"WinLoss\",\"Time\",\"Health\"])\n",
    "static_info_meanrward_df = pd.DataFrame(static_info_meanrward,columns=[\"category\", \"mean reward\",\"std reward\"])\n",
    "static_info_df.to_csv(\"data/static_info_df.csv\" , mode='a', index=False, header=False)\n",
    "static_info_meanrward_df.to_csv(\"data/static_info_meanrward_df.csv\", mode='a', index=False, header=False)\n",
    "combo_df.to_csv(\"data/combo_df.csv\", mode='a', index=False, header=False)\n",
    "ACT_df.to_csv(\"data/ACT_df.csv\", mode='a', index=False, header=False)"
   ],
   "metadata": {
    "collapsed": false,
    "pycharm": {
     "name": "#%%\n"
    }
   }
  },
  {
   "cell_type": "code",
   "execution_count": 7,
   "outputs": [],
   "source": [
    "# this cell is used for record the sample video of each model, we need additional screen recording software\n",
    "# how many round each model will play\n",
    "round = 2\n",
    "current_round = 0\n",
    "# for recording propose, after the end of each round, do not reset environment immediately, wait a short period\n",
    "reset_delay = 60\n",
    "#model = PPO.load(\"Kof97_PPO_V2_t3_1_transfer_CH26\", env=env)\n",
    "model = RecurrentPPO.load(\"Kof97_PPO_LSTM_V3\", env=env)\n",
    "obs = env.reset()\n",
    "while current_round < round:\n",
    "    action, _state = model.predict(obs, deterministic=False)\n",
    "    obs, reward, done, info = env.step(action)\n",
    "    if done:\n",
    "        for i in range(0,reset_delay):\n",
    "            obs, reward, done, info = env.step(0)\n",
    "        obs = env.reset()\n",
    "        current_round+=1\n",
    "##env.close()"
   ],
   "metadata": {
    "collapsed": false,
    "pycharm": {
     "name": "#%%\n"
    }
   }
  }
 ],
 "metadata": {
  "kernelspec": {
   "display_name": "Python 3",
   "language": "python",
   "name": "python3"
  },
  "language_info": {
   "codemirror_mode": {
    "name": "ipython",
    "version": 2
   },
   "file_extension": ".py",
   "mimetype": "text/x-python",
   "name": "python",
   "nbconvert_exporter": "python",
   "pygments_lexer": "ipython2",
   "version": "2.7.6"
  }
 },
 "nbformat": 4,
 "nbformat_minor": 0
}